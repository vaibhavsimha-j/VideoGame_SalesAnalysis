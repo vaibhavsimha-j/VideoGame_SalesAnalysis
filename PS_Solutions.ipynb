{
  "nbformat": 4,
  "nbformat_minor": 0,
  "metadata": {
    "colab": {
      "provenance": []
    },
    "kernelspec": {
      "name": "python3",
      "display_name": "Python 3"
    },
    "language_info": {
      "name": "python"
    }
  },
  "cells": [
    {
      "cell_type": "markdown",
      "source": [
        "## PHASE 1 - Data Familiarization and Initial Processing"
      ],
      "metadata": {
        "id": "LB4j-OzZ5IAx"
      }
    },
    {
      "cell_type": "markdown",
      "source": [
        "PROBLEM STATEMENT 1 - ANALYSIS OF ATARI 2600"
      ],
      "metadata": {
        "id": "rnPrrH2O5LBI"
      }
    },
    {
      "cell_type": "code",
      "execution_count": null,
      "metadata": {
        "colab": {
          "base_uri": "https://localhost:8080/"
        },
        "id": "YaRjDaECKDs9",
        "outputId": "3bd4dba2-5c3d-437d-8b1d-d7d29e7cc0b2"
      },
      "outputs": [
        {
          "output_type": "stream",
          "name": "stdout",
          "text": [
            "     Year  Global_Sales\n",
            "0  1980.0         82.42\n",
            "1  1981.0        227.78\n"
          ]
        }
      ],
      "source": [
        "#PS1\n",
        "\n",
        "import pandas as pd\n",
        "\n",
        "# Assuming you have a CSV file containing sales data for Atari 2600 games\n",
        "sales_data = pd.read_csv(\"/content/VGsales_datasets.csv\")\n",
        "\n",
        "# Filter data for the years 1980 and 1981\n",
        "atari_1980_1981 = sales_data[(sales_data['Year'] == 1980) | (sales_data['Year'] == 1981)]\n",
        "\n",
        "# Group data by year and calculate total sales\n",
        "sales_by_year = atari_1980_1981.groupby('Year')['Global_Sales'].sum().reset_index()\n",
        "\n",
        "\n",
        "\n",
        "# Save to a new CSV for Power BI\n",
        "sales_by_year.to_csv('/content/atari_sales_trends.csv', index=False)\n",
        "print(sales_by_year.head())"
      ]
    },
    {
      "cell_type": "markdown",
      "source": [
        "PROBLEM STATEMENT 2 - GENRE PERFORMANCE DASHBOARD"
      ],
      "metadata": {
        "id": "Po0B7-xQ5RHX"
      }
    },
    {
      "cell_type": "code",
      "source": [
        "#PS2\n",
        "# Load the dataset\n",
        "df = pd.read_csv('/content/VGsales_datasets.csv')\n",
        "\n",
        "# Filter for Atari 2600 and years 1980 and 1981\n",
        "atari_genres = df[(df['Platform'] == '2600') & (df['Year'].isin([1980, 1981]))]\n",
        "\n",
        "# Group by genre and sum sales\n",
        "genre_performance = atari_genres.groupby('Genre')['Global_Sales'].sum().reset_index()\n",
        "\n",
        "# Save to a new CSV for Power BI\n",
        "genre_performance.to_csv('/content/atari_genre_performance.csv', index=False)\n",
        "print(genre_performance.head())"
      ],
      "metadata": {
        "colab": {
          "base_uri": "https://localhost:8080/"
        },
        "id": "y3tpzdgxKdxb",
        "outputId": "0f19ffdb-22ce-4756-9595-a4eab8c67bc9"
      },
      "execution_count": null,
      "outputs": [
        {
          "output_type": "stream",
          "name": "stdout",
          "text": [
            "      Genre  Global_Sales\n",
            "0    Action         95.48\n",
            "1  Fighting          4.62\n",
            "2      Misc         16.26\n",
            "3  Platform         46.08\n",
            "4    Puzzle         13.44\n"
          ]
        }
      ]
    },
    {
      "cell_type": "markdown",
      "source": [
        "PROBLEM STATEMENT 3 - REGIONAL GENRE POPULARITY"
      ],
      "metadata": {
        "id": "81sm7ATI5XP-"
      }
    },
    {
      "cell_type": "code",
      "source": [
        "#PS3\n",
        "regional_genre_sales = atari_genres.groupby('Genre')[['NA_Sales', 'EU_Sales']].sum().reset_index()\n",
        "# Calculate the difference between North America and Europe sales\n",
        "regional_genre_sales['NA_vs_EU'] = regional_genre_sales['NA_Sales'] - regional_genre_sales['EU_Sales']\n",
        "# Save the preprocessed data to a CSV file for further analysis\n",
        "preprocessed_file_path = 'Regional_genre_popularity.csv'\n",
        "regional_genre_sales.to_csv(preprocessed_file_path, index=False)\n",
        "print(regional_genre_sales)"
      ],
      "metadata": {
        "colab": {
          "base_uri": "https://localhost:8080/"
        },
        "id": "x-PsfOKZKtR8",
        "outputId": "64a66494-7dbb-4e71-e139-4ec7a5e184ba"
      },
      "execution_count": null,
      "outputs": [
        {
          "output_type": "stream",
          "name": "stdout",
          "text": [
            "        Genre  NA_Sales  EU_Sales  NA_vs_EU\n",
            "0      Action    103.38      6.05     97.33\n",
            "1    Fighting      5.04      0.28      4.76\n",
            "2        Misc     17.71      1.05     16.66\n",
            "3    Platform     49.50      2.83     46.67\n",
            "4      Puzzle     14.63      0.91     13.72\n",
            "5      Racing      3.15      0.21      2.94\n",
            "6     Shooter    128.61      8.03    120.58\n",
            "7  Simulation      2.94      0.14      2.80\n",
            "8      Sports      8.40      0.49      7.91\n"
          ]
        }
      ]
    },
    {
      "cell_type": "markdown",
      "source": [
        "## PHASE 2 - Data Ingestion and Storage Optimization"
      ],
      "metadata": {
        "id": "YeZvfHHf5c0u"
      }
    },
    {
      "cell_type": "markdown",
      "source": [
        "PROBLEM STATEMENT 4 - PLATFORM SALES ANALYSIS"
      ],
      "metadata": {
        "id": "KA3trylY5hQe"
      }
    },
    {
      "cell_type": "code",
      "source": [
        "#PS4\n",
        "import pandas as pd\n",
        "import matplotlib.pyplot as plt\n",
        "\n",
        "# Load the dataset\n",
        "df = pd.read_csv(\"/content/VGsales_datasets.csv\")\n",
        "\n",
        "# Filter records for the X360 platform\n",
        "x360_df = df[df['Platform'] == 'X360']\n",
        "\n",
        "# Group by Year and sum up the sales\n",
        "country_sales = x360_df.groupby('Year').agg({'NA_Sales':'sum', 'EU_Sales':'sum', 'JP_Sales':'sum', 'Other_Sales':'sum', 'Global_Sales':'sum'})\n",
        "\n",
        "# Plotting\n",
        "fig, ax = plt.subplots(figsize=(12, 8))\n",
        "\n",
        "country_sales.plot(kind='bar', ax=ax)\n",
        "plt.title('X360 Platform Sales by Year')\n",
        "plt.xlabel('Year')\n",
        "plt.ylabel('Sales (in millions)')\n",
        "plt.xticks(rotation=45)\n",
        "plt.legend(loc='upper right')\n",
        "\n",
        "plt.tight_layout()\n",
        "plt.show()\n",
        "\n",
        "# Global sales\n",
        "global_sales = country_sales['Global_Sales'].sum()\n",
        "print(\"Global Sales for X360 platform:\", global_sales)"
      ],
      "metadata": {
        "colab": {
          "base_uri": "https://localhost:8080/",
          "height": 824
        },
        "id": "g7wibubbK6mW",
        "outputId": "eb7e5261-8568-42b6-e598-8af9a3178917"
      },
      "execution_count": null,
      "outputs": [
        {
          "output_type": "display_data",
          "data": {
            "text/plain": [
              "<Figure size 1200x800 with 1 Axes>"
            ],
            "image/png": "[encoded data removed]"
          },
          "metadata": {}
        },
        {
          "output_type": "stream",
          "name": "stdout",
          "text": [
            "Global Sales for X360 platform: 2704.2299999999996\n"
          ]
        }
      ]
    },
    {
      "cell_type": "markdown",
      "source": [
        "PROBLEM STATEMENT 5 - GENRE SPECIFIC SALES IN JAPAN"
      ],
      "metadata": {
        "id": "DzW-YApM6lxV"
      }
    },
    {
      "cell_type": "code",
      "source": [
        "#PS5\n",
        "# Load the dataset\n",
        "df = pd.read_csv(\"VGsales_datasets.csv\")\n",
        "\n",
        "# Convert 'JP_Sales' and 'EU_Sales' columns to numeric data types, ignoring errors\n",
        "df['JP_Sales'] = pd.to_numeric(df['JP_Sales'], errors='coerce')\n",
        "df['EU_Sales'] = pd.to_numeric(df['EU_Sales'], errors='coerce')\n",
        "\n",
        "# Filter data where JP sales are higher than EU sales\n",
        "jp_sales = df[df['JP_Sales'] > df['EU_Sales']]\n",
        "\n",
        "# Save the filtered data to a CSV file\n",
        "jp_sales.to_csv('JP_Sales.csv', index=False)\n",
        "\n",
        "\n",
        "# Analyze the contribution of different genres to sales in various regions\n",
        "genre_sales = df.groupby('Genre').agg({'NA_Sales':'sum', 'EU_Sales':'sum', 'JP_Sales':'sum', 'Other_Sales':'sum', 'Global_Sales':'sum'})\n",
        "print(\"Genre-Specific Sales in Different Regions:\")\n",
        "print(genre_sales)"
      ],
      "metadata": {
        "colab": {
          "base_uri": "https://localhost:8080/"
        },
        "id": "qIRFUSLPLDAW",
        "outputId": "20dbea1a-767c-4aa3-8e87-7d5d03949c23"
      },
      "execution_count": null,
      "outputs": [
        {
          "output_type": "stream",
          "name": "stdout",
          "text": [
            "Genre-Specific Sales in Different Regions:\n",
            "              NA_Sales  EU_Sales  JP_Sales  Other_Sales  Global_Sales\n",
            "Genre                                                                \n",
            "Action         2586.82   1570.31    372.04       359.92       3373.37\n",
            "Adventure       231.41    152.88    105.37        21.57        290.87\n",
            "Fighting        544.84    259.08    185.82        52.19        632.99\n",
            "Misc           1007.43    535.66    223.34       103.32       1158.75\n",
            "Platform       1093.28    506.42    259.38        71.21       1179.74\n",
            "Puzzle          306.56    127.90    114.42        16.61        339.84\n",
            "Racing          874.70    616.21    105.42       117.14       1086.86\n",
            "Role-Playing    820.91    543.87    797.89        89.04       1328.13\n",
            "Shooter        1967.92    995.42     86.65       224.87       2364.23\n",
            "Simulation      419.73    284.13    133.14        40.49        514.02\n",
            "Sports         1897.69   1139.00    322.59       278.20       2485.58\n",
            "Strategy        164.58    107.56     99.98        14.22        223.24\n"
          ]
        }
      ]
    },
    {
      "cell_type": "markdown",
      "source": [
        "PROBLEM STATEMENT 6 - PS3 SPORTS GAME"
      ],
      "metadata": {
        "id": "yoxQshC46sy3"
      }
    },
    {
      "cell_type": "code",
      "source": [
        "#PS6\n",
        "# Filter for PS3 sports games and sort by global sales\n",
        "ps3_sports = df[(df['Platform'] == 'PS3') & (df['Genre'] == 'Sports')].sort_values(by='Global_Sales', ascending=False)\n",
        "\n",
        "# Save the sorted data to a CSV file\n",
        "ps3_sports.to_csv('sportsps.csv', index=False)\n"
      ],
      "metadata": {
        "id": "IS0B-QeYLQvc"
      },
      "execution_count": null,
      "outputs": []
    },
    {
      "cell_type": "markdown",
      "source": [
        "PROBLEM STATEMENT 7 - POST-2010 SPORTS GAMES ANALYSIS"
      ],
      "metadata": {
        "id": "X-GOFUjq6yDl"
      }
    },
    {
      "cell_type": "code",
      "source": [
        "#PS7\n",
        "# Filter for sports games in action or shooter genres since 2010\n",
        "sports_action_shooter = df[(df['Year'] >= 2010) & (df['Genre'].isin(['Action', 'Shooter']))]\n",
        "\n",
        "# Plot the distribution of global sales\n",
        "plt.figure(figsize=(10, 6))\n",
        "plt.hist(sports_action_shooter['Global_Sales'], bins=20, edgecolor='k')\n",
        "plt.title('Distribution of Global Sales for Sports, Action, and Shooter Games (Post-2010)')\n",
        "plt.xlabel('Global Sales (in millions)')\n",
        "plt.ylabel('Number of Games')\n",
        "plt.show()\n",
        "sports_action_shooter.to_csv('/content/sports_action_shooter.csv', index=False)\n",
        "# Explain the findings\n",
        "print(\"Summary Statistics of Global Sales for Sports Games (Action/Shooter) Since 2010:\")\n",
        "print(sports_action_shooter['Global_Sales'].describe())"
      ],
      "metadata": {
        "colab": {
          "base_uri": "https://localhost:8080/",
          "height": 738
        },
        "id": "Es2wdH9ELZN-",
        "outputId": "61dbc2d0-db95-4b43-9229-4b3c59d2c342"
      },
      "execution_count": null,
      "outputs": [
        {
          "output_type": "display_data",
          "data": {
            "text/plain": [
              "<Figure size 1000x600 with 1 Axes>"
            ],
            "image/png": "[encoded data removed]"
          },
          "metadata": {}
        },
        {
          "output_type": "stream",
          "name": "stdout",
          "text": [
            "Summary Statistics of Global Sales for Sports Games (Action/Shooter) Since 2010:\n",
            "count    2355.000000\n",
            "mean        1.025274\n",
            "std         2.069300\n",
            "min         0.010000\n",
            "25%         0.080000\n",
            "50%         0.250000\n",
            "75%         0.960000\n",
            "max        21.400000\n",
            "Name: Global_Sales, dtype: float64\n"
          ]
        }
      ]
    },
    {
      "cell_type": "markdown",
      "source": [
        "## PHASE 3 - DATA TRANSFORMATION"
      ],
      "metadata": {
        "id": "Pq52pQ4X635u"
      }
    },
    {
      "cell_type": "markdown",
      "source": [
        "PROBLEM STATEMENT 8 - GENRE RELEASES AND SALES"
      ],
      "metadata": {
        "id": "KhFcSfr768j_"
      }
    },
    {
      "cell_type": "code",
      "source": [
        "#PS8\n",
        "# Filter data for Atari 2600 games released in 1980 and 1981\n",
        "atari_data = df[(df['Platform'] == '2600') & (df['Year'].isin([1980, 1981]))]\n",
        "\n",
        "# Group by Genre and calculate the number of releases and total global sales for each genre\n",
        "genre_analysis = atari_data.groupby('Genre').agg(\n",
        "    Number_of_Releases=('Name', 'count'),\n",
        "    Total_Global_Sales=('Global_Sales', 'sum')\n",
        ").reset_index()\n",
        "\n",
        "# Display the results\n",
        "print(genre_analysis)\n",
        "genre_analysis.to_csv('/content/genre_analysis.csv', index=False)"
      ],
      "metadata": {
        "colab": {
          "base_uri": "https://localhost:8080/"
        },
        "id": "ydke7_ijLdNK",
        "outputId": "0f0cf0d1-ce2b-4d13-ff18-31dae85ce614"
      },
      "execution_count": null,
      "outputs": [
        {
          "output_type": "stream",
          "name": "stdout",
          "text": [
            "        Genre  Number_of_Releases  Total_Global_Sales\n",
            "0      Action                 184               95.48\n",
            "1    Fighting                   7                4.62\n",
            "2        Misc                  28               16.26\n",
            "3    Platform                  22               46.08\n",
            "4      Puzzle                  14               13.44\n",
            "5      Racing                   7                2.88\n",
            "6     Shooter                  90              121.06\n",
            "7  Simulation                   7                2.70\n",
            "8      Sports                  35                7.68\n"
          ]
        }
      ]
    },
    {
      "cell_type": "markdown",
      "source": [
        "PROBLEM STATEMENT 9 - HIGH SALES GENRE"
      ],
      "metadata": {
        "id": "ptyQmiZN7Gjd"
      }
    },
    {
      "cell_type": "code",
      "source": [
        "#PS9\n",
        "# Filter data for Atari 2600 games released in 1980 and 1981\n",
        "atari_data = df[(df['Platform'] == '2600') & (df['Year'].isin([1980, 1981]))]\n",
        "\n",
        "# Group by Genre and calculate the number of releases and total global sales for each genre\n",
        "genre_analysis = atari_data.groupby('Genre').agg(\n",
        "    Number_of_Releases=('Name', 'count'),\n",
        "    Total_Global_Sales=('Global_Sales', 'sum')\n",
        ").reset_index()\n",
        "\n",
        "# Display the results\n",
        "print(genre_analysis)"
      ],
      "metadata": {
        "colab": {
          "base_uri": "https://localhost:8080/"
        },
        "id": "KIMwGBMILp6M",
        "outputId": "ff1c6ac2-a015-4333-8781-461d395b23ae"
      },
      "execution_count": null,
      "outputs": [
        {
          "output_type": "stream",
          "name": "stdout",
          "text": [
            "        Genre  Number_of_Releases  Total_Global_Sales\n",
            "0      Action                 184               95.48\n",
            "1    Fighting                   7                4.62\n",
            "2        Misc                  28               16.26\n",
            "3    Platform                  22               46.08\n",
            "4      Puzzle                  14               13.44\n",
            "5      Racing                   7                2.88\n",
            "6     Shooter                  90              121.06\n",
            "7  Simulation                   7                2.70\n",
            "8      Sports                  35                7.68\n"
          ]
        }
      ]
    },
    {
      "cell_type": "markdown",
      "source": [
        "PROBLEM STATEMENT 10 - DECADE BASED SALES ANALYSIS"
      ],
      "metadata": {
        "id": "306cs-j87MlH"
      }
    },
    {
      "cell_type": "code",
      "source": [
        "#PS10\n",
        "\n",
        "import pandas as pd\n",
        "\n",
        "# Load the CSV file\n",
        "file_path = '/content/VGsales_datasets.csv'\n",
        "data = pd.read_csv(file_path)\n",
        "\n",
        "# Display the first few rows of the dataset\n",
        "data.head()\n",
        "# Filter the records with sales between 2 million and 10 million\n",
        "filtered_data = data[(data['Global_Sales'] >= 2) & (data['Global_Sales'] <= 10)]\n",
        "\n",
        "# Create a function to categorize years into decades\n",
        "def categorize_decade(year):\n",
        "    if 1990 <= year <= 1999:\n",
        "        return '1990-1999'\n",
        "    elif 2000 <= year <= 2009:\n",
        "        return '2000-2009'\n",
        "    elif 2010 <= year <= 2016:\n",
        "        return '2010-2016'\n",
        "    else:\n",
        "        return 'Other'\n",
        "\n",
        "# Apply the function to the dataset\n",
        "filtered_data['Decade'] = filtered_data['Year'].apply(categorize_decade)\n",
        "\n",
        "# Filter out any records that fall into the 'Other' category\n",
        "filtered_data = filtered_data[filtered_data['Decade'] != 'Other']\n",
        "\n",
        "# Display the first few rows of the filtered dataset\n",
        "filtered_data.head()\n",
        "# Group by Decade and Genre and sum the sales\n",
        "genre_sales_by_decade = filtered_data.groupby(['Decade', 'Genre'])['Global_Sales'].sum().reset_index()\n",
        "\n",
        "# Pivot the table for better visualization\n",
        "pivot_table = genre_sales_by_decade.pivot(index='Genre', columns='Decade', values='Global_Sales')\n",
        "\n",
        "# Display the pivot table\n",
        "pivot_table"
      ],
      "metadata": {
        "colab": {
          "base_uri": "https://localhost:8080/",
          "height": 561
        },
        "id": "MqNv_mr2LtQQ",
        "outputId": "1f70788c-0d6d-495a-ee17-ad9a2a11405e"
      },
      "execution_count": null,
      "outputs": [
        {
          "output_type": "stream",
          "name": "stderr",
          "text": [
            "<ipython-input-10-4a0d213fd1d8>:26: SettingWithCopyWarning: \n",
            "A value is trying to be set on a copy of a slice from a DataFrame.\n",
            "Try using .loc[row_indexer,col_indexer] = value instead\n",
            "\n",
            "See the caveats in the documentation: https://pandas.pydata.org/pandas-docs/stable/user_guide/indexing.html#returning-a-view-versus-a-copy\n",
            "  filtered_data['Decade'] = filtered_data['Year'].apply(categorize_decade)\n"
          ]
        },
        {
          "output_type": "execute_result",
          "data": {
            "text/plain": [
              "Decade        1990-1999  2000-2009  2010-2016\n",
              "Genre                                        \n",
              "Action           254.01     855.80     684.70\n",
              "Adventure         21.60      37.13      20.86\n",
              "Fighting          96.98     151.84      42.37\n",
              "Misc              51.46     302.02     185.70\n",
              "Platform         226.30     218.74     104.92\n",
              "Puzzle            14.50      68.44       5.38\n",
              "Racing           130.38     268.48      72.38\n",
              "Role-Playing      87.80     361.74     245.32\n",
              "Shooter           94.80     539.58     641.51\n",
              "Simulation        26.12     132.12      59.11\n",
              "Sports            55.62     534.44     571.25\n",
              "Strategy          55.56      17.49       9.66"
            ],
            "text/html": [
              "\n",
              "  <div id=\"df-eef140ea-6f79-4d06-a13d-cff743269768\" class=\"colab-df-container\">\n",
              "    <div>\n",
              "<style scoped>\n",
              "    .dataframe tbody tr th:only-of-type {\n",
              "        vertical-align: middle;\n",
              "    }\n",
              "\n",
              "    .dataframe tbody tr th {\n",
              "        vertical-align: top;\n",
              "    }\n",
              "\n",
              "    .dataframe thead th {\n",
              "        text-align: right;\n",
              "    }\n",
              "</style>\n",
              "<table border=\"1\" class=\"dataframe\">\n",
              "  <thead>\n",
              "    <tr style=\"text-align: right;\">\n",
              "      <th>Decade</th>\n",
              "      <th>1990-1999</th>\n",
              "      <th>2000-2009</th>\n",
              "      <th>2010-2016</th>\n",
              "    </tr>\n",
              "    <tr>\n",
              "      <th>Genre</th>\n",
              "      <th></th>\n",
              "      <th></th>\n",
              "      <th></th>\n",
              "    </tr>\n",
              "  </thead>\n",
              "  <tbody>\n",
              "    <tr>\n",
              "      <th>Action</th>\n",
              "      <td>254.01</td>\n",
              "      <td>855.80</td>\n",
              "      <td>684.70</td>\n",
              "    </tr>\n",
              "    <tr>\n",
              "      <th>Adventure</th>\n",
              "      <td>21.60</td>\n",
              "      <td>37.13</td>\n",
              "      <td>20.86</td>\n",
              "    </tr>\n",
              "    <tr>\n",
              "      <th>Fighting</th>\n",
              "      <td>96.98</td>\n",
              "      <td>151.84</td>\n",
              "      <td>42.37</td>\n",
              "    </tr>\n",
              "    <tr>\n",
              "      <th>Misc</th>\n",
              "      <td>51.46</td>\n",
              "      <td>302.02</td>\n",
              "      <td>185.70</td>\n",
              "    </tr>\n",
              "    <tr>\n",
              "      <th>Platform</th>\n",
              "      <td>226.30</td>\n",
              "      <td>218.74</td>\n",
              "      <td>104.92</td>\n",
              "    </tr>\n",
              "    <tr>\n",
              "      <th>Puzzle</th>\n",
              "      <td>14.50</td>\n",
              "      <td>68.44</td>\n",
              "      <td>5.38</td>\n",
              "    </tr>\n",
              "    <tr>\n",
              "      <th>Racing</th>\n",
              "      <td>130.38</td>\n",
              "      <td>268.48</td>\n",
              "      <td>72.38</td>\n",
              "    </tr>\n",
              "    <tr>\n",
              "      <th>Role-Playing</th>\n",
              "      <td>87.80</td>\n",
              "      <td>361.74</td>\n",
              "      <td>245.32</td>\n",
              "    </tr>\n",
              "    <tr>\n",
              "      <th>Shooter</th>\n",
              "      <td>94.80</td>\n",
              "      <td>539.58</td>\n",
              "      <td>641.51</td>\n",
              "    </tr>\n",
              "    <tr>\n",
              "      <th>Simulation</th>\n",
              "      <td>26.12</td>\n",
              "      <td>132.12</td>\n",
              "      <td>59.11</td>\n",
              "    </tr>\n",
              "    <tr>\n",
              "      <th>Sports</th>\n",
              "      <td>55.62</td>\n",
              "      <td>534.44</td>\n",
              "      <td>571.25</td>\n",
              "    </tr>\n",
              "    <tr>\n",
              "      <th>Strategy</th>\n",
              "      <td>55.56</td>\n",
              "      <td>17.49</td>\n",
              "      <td>9.66</td>\n",
              "    </tr>\n",
              "  </tbody>\n",
              "</table>\n",
              "</div>\n",
              "    <div class=\"colab-df-buttons\">\n",
              "\n",
              "  <div class=\"colab-df-container\">\n",
              "    <button class=\"colab-df-convert\" onclick=\"convertToInteractive('df-eef140ea-6f79-4d06-a13d-cff743269768')\"\n",
              "            title=\"Convert this dataframe to an interactive table.\"\n",
              "            style=\"display:none;\">\n",
              "\n",
              "  <svg xmlns=\"http://www.w3.org/2000/svg\" height=\"24px\" viewBox=\"0 -960 960 960\">\n",
              "    <path d=\"M120-120v-720h720v720H120Zm60-500h600v-160H180v160Zm220 220h160v-160H400v160Zm0 220h160v-160H400v160ZM180-400h160v-160H180v160Zm440 0h160v-160H620v160ZM180-180h160v-160H180v160Zm440 0h160v-160H620v160Z\"/>\n",
              "  </svg>\n",
              "    </button>\n",
              "\n",
              "  <style>\n",
              "    .colab-df-container {\n",
              "      display:flex;\n",
              "      gap: 12px;\n",
              "    }\n",
              "\n",
              "    .colab-df-convert {\n",
              "      background-color: #E8F0FE;\n",
              "      border: none;\n",
              "      border-radius: 50%;\n",
              "      cursor: pointer;\n",
              "      display: none;\n",
              "      fill: #1967D2;\n",
              "      height: 32px;\n",
              "      padding: 0 0 0 0;\n",
              "      width: 32px;\n",
              "    }\n",
              "\n",
              "    .colab-df-convert:hover {\n",
              "      background-color: #E2EBFA;\n",
              "      box-shadow: 0px 1px 2px rgba(60, 64, 67, 0.3), 0px 1px 3px 1px rgba(60, 64, 67, 0.15);\n",
              "      fill: #174EA6;\n",
              "    }\n",
              "\n",
              "    .colab-df-buttons div {\n",
              "      margin-bottom: 4px;\n",
              "    }\n",
              "\n",
              "    [theme=dark] .colab-df-convert {\n",
              "      background-color: #3B4455;\n",
              "      fill: #D2E3FC;\n",
              "    }\n",
              "\n",
              "    [theme=dark] .colab-df-convert:hover {\n",
              "      background-color: #434B5C;\n",
              "      box-shadow: 0px 1px 3px 1px rgba(0, 0, 0, 0.15);\n",
              "      filter: drop-shadow(0px 1px 2px rgba(0, 0, 0, 0.3));\n",
              "      fill: #FFFFFF;\n",
              "    }\n",
              "  </style>\n",
              "\n",
              "    <script>\n",
              "      const buttonEl =\n",
              "        document.querySelector('#df-eef140ea-6f79-4d06-a13d-cff743269768 button.colab-df-convert');\n",
              "      buttonEl.style.display =\n",
              "        google.colab.kernel.accessAllowed ? 'block' : 'none';\n",
              "\n",
              "      async function convertToInteractive(key) {\n",
              "        const element = document.querySelector('#df-eef140ea-6f79-4d06-a13d-cff743269768');\n",
              "        const dataTable =\n",
              "          await google.colab.kernel.invokeFunction('convertToInteractive',\n",
              "                                                    [key], {});\n",
              "        if (!dataTable) return;\n",
              "\n",
              "        const docLinkHtml = 'Like what you see? Visit the ' +\n",
              "          '<a target=\"_blank\" href=https://colab.research.google.com/notebooks/data_table.ipynb>data table notebook</a>'\n",
              "          + ' to learn more about interactive tables.';\n",
              "        element.innerHTML = '';\n",
              "        dataTable['output_type'] = 'display_data';\n",
              "        await google.colab.output.renderOutput(dataTable, element);\n",
              "        const docLink = document.createElement('div');\n",
              "        docLink.innerHTML = docLinkHtml;\n",
              "        element.appendChild(docLink);\n",
              "      }\n",
              "    </script>\n",
              "  </div>\n",
              "\n",
              "\n",
              "<div id=\"df-5c2e26a9-55b5-455e-8023-9c0461c346c2\">\n",
              "  <button class=\"colab-df-quickchart\" onclick=\"quickchart('df-5c2e26a9-55b5-455e-8023-9c0461c346c2')\"\n",
              "            title=\"Suggest charts\"\n",
              "            style=\"display:none;\">\n",
              "\n",
              "<svg xmlns=\"http://www.w3.org/2000/svg\" height=\"24px\"viewBox=\"0 0 24 24\"\n",
              "     width=\"24px\">\n",
              "    <g>\n",
              "        <path d=\"M19 3H5c-1.1 0-2 .9-2 2v14c0 1.1.9 2 2 2h14c1.1 0 2-.9 2-2V5c0-1.1-.9-2-2-2zM9 17H7v-7h2v7zm4 0h-2V7h2v10zm4 0h-2v-4h2v4z\"/>\n",
              "    </g>\n",
              "</svg>\n",
              "  </button>\n",
              "\n",
              "<style>\n",
              "  .colab-df-quickchart {\n",
              "      --bg-color: #E8F0FE;\n",
              "      --fill-color: #1967D2;\n",
              "      --hover-bg-color: #E2EBFA;\n",
              "      --hover-fill-color: #174EA6;\n",
              "      --disabled-fill-color: #AAA;\n",
              "      --disabled-bg-color: #DDD;\n",
              "  }\n",
              "\n",
              "  [theme=dark] .colab-df-quickchart {\n",
              "      --bg-color: #3B4455;\n",
              "      --fill-color: #D2E3FC;\n",
              "      --hover-bg-color: #434B5C;\n",
              "      --hover-fill-color: #FFFFFF;\n",
              "      --disabled-bg-color: #3B4455;\n",
              "      --disabled-fill-color: #666;\n",
              "  }\n",
              "\n",
              "  .colab-df-quickchart {\n",
              "    background-color: var(--bg-color);\n",
              "    border: none;\n",
              "    border-radius: 50%;\n",
              "    cursor: pointer;\n",
              "    display: none;\n",
              "    fill: var(--fill-color);\n",
              "    height: 32px;\n",
              "    padding: 0;\n",
              "    width: 32px;\n",
              "  }\n",
              "\n",
              "  .colab-df-quickchart:hover {\n",
              "    background-color: var(--hover-bg-color);\n",
              "    box-shadow: 0 1px 2px rgba(60, 64, 67, 0.3), 0 1px 3px 1px rgba(60, 64, 67, 0.15);\n",
              "    fill: var(--button-hover-fill-color);\n",
              "  }\n",
              "\n",
              "  .colab-df-quickchart-complete:disabled,\n",
              "  .colab-df-quickchart-complete:disabled:hover {\n",
              "    background-color: var(--disabled-bg-color);\n",
              "    fill: var(--disabled-fill-color);\n",
              "    box-shadow: none;\n",
              "  }\n",
              "\n",
              "  .colab-df-spinner {\n",
              "    border: 2px solid var(--fill-color);\n",
              "    border-color: transparent;\n",
              "    border-bottom-color: var(--fill-color);\n",
              "    animation:\n",
              "      spin 1s steps(1) infinite;\n",
              "  }\n",
              "\n",
              "  @keyframes spin {\n",
              "    0% {\n",
              "      border-color: transparent;\n",
              "      border-bottom-color: var(--fill-color);\n",
              "      border-left-color: var(--fill-color);\n",
              "    }\n",
              "    20% {\n",
              "      border-color: transparent;\n",
              "      border-left-color: var(--fill-color);\n",
              "      border-top-color: var(--fill-color);\n",
              "    }\n",
              "    30% {\n",
              "      border-color: transparent;\n",
              "      border-left-color: var(--fill-color);\n",
              "      border-top-color: var(--fill-color);\n",
              "      border-right-color: var(--fill-color);\n",
              "    }\n",
              "    40% {\n",
              "      border-color: transparent;\n",
              "      border-right-color: var(--fill-color);\n",
              "      border-top-color: var(--fill-color);\n",
              "    }\n",
              "    60% {\n",
              "      border-color: transparent;\n",
              "      border-right-color: var(--fill-color);\n",
              "    }\n",
              "    80% {\n",
              "      border-color: transparent;\n",
              "      border-right-color: var(--fill-color);\n",
              "      border-bottom-color: var(--fill-color);\n",
              "    }\n",
              "    90% {\n",
              "      border-color: transparent;\n",
              "      border-bottom-color: var(--fill-color);\n",
              "    }\n",
              "  }\n",
              "</style>\n",
              "\n",
              "  <script>\n",
              "    async function quickchart(key) {\n",
              "      const quickchartButtonEl =\n",
              "        document.querySelector('#' + key + ' button');\n",
              "      quickchartButtonEl.disabled = true;  // To prevent multiple clicks.\n",
              "      quickchartButtonEl.classList.add('colab-df-spinner');\n",
              "      try {\n",
              "        const charts = await google.colab.kernel.invokeFunction(\n",
              "            'suggestCharts', [key], {});\n",
              "      } catch (error) {\n",
              "        console.error('Error during call to suggestCharts:', error);\n",
              "      }\n",
              "      quickchartButtonEl.classList.remove('colab-df-spinner');\n",
              "      quickchartButtonEl.classList.add('colab-df-quickchart-complete');\n",
              "    }\n",
              "    (() => {\n",
              "      let quickchartButtonEl =\n",
              "        document.querySelector('#df-5c2e26a9-55b5-455e-8023-9c0461c346c2 button');\n",
              "      quickchartButtonEl.style.display =\n",
              "        google.colab.kernel.accessAllowed ? 'block' : 'none';\n",
              "    })();\n",
              "  </script>\n",
              "</div>\n",
              "\n",
              "  <div id=\"id_4cca75a5-42fb-41e5-bf73-7737487af2f5\">\n",
              "    <style>\n",
              "      .colab-df-generate {\n",
              "        background-color: #E8F0FE;\n",
              "        border: none;\n",
              "        border-radius: 50%;\n",
              "        cursor: pointer;\n",
              "        display: none;\n",
              "        fill: #1967D2;\n",
              "        height: 32px;\n",
              "        padding: 0 0 0 0;\n",
              "        width: 32px;\n",
              "      }\n",
              "\n",
              "      .colab-df-generate:hover {\n",
              "        background-color: #E2EBFA;\n",
              "        box-shadow: 0px 1px 2px rgba(60, 64, 67, 0.3), 0px 1px 3px 1px rgba(60, 64, 67, 0.15);\n",
              "        fill: #174EA6;\n",
              "      }\n",
              "\n",
              "      [theme=dark] .colab-df-generate {\n",
              "        background-color: #3B4455;\n",
              "        fill: #D2E3FC;\n",
              "      }\n",
              "\n",
              "      [theme=dark] .colab-df-generate:hover {\n",
              "        background-color: #434B5C;\n",
              "        box-shadow: 0px 1px 3px 1px rgba(0, 0, 0, 0.15);\n",
              "        filter: drop-shadow(0px 1px 2px rgba(0, 0, 0, 0.3));\n",
              "        fill: #FFFFFF;\n",
              "      }\n",
              "    </style>\n",
              "    <button class=\"colab-df-generate\" onclick=\"generateWithVariable('pivot_table')\"\n",
              "            title=\"Generate code using this dataframe.\"\n",
              "            style=\"display:none;\">\n",
              "\n",
              "  <svg xmlns=\"http://www.w3.org/2000/svg\" height=\"24px\"viewBox=\"0 0 24 24\"\n",
              "       width=\"24px\">\n",
              "    <path d=\"M7,19H8.4L18.45,9,17,7.55,7,17.6ZM5,21V16.75L18.45,3.32a2,2,0,0,1,2.83,0l1.4,1.43a1.91,1.91,0,0,1,.58,1.4,1.91,1.91,0,0,1-.58,1.4L9.25,21ZM18.45,9,17,7.55Zm-12,3A5.31,5.31,0,0,0,4.9,8.1,5.31,5.31,0,0,0,1,6.5,5.31,5.31,0,0,0,4.9,4.9,5.31,5.31,0,0,0,6.5,1,5.31,5.31,0,0,0,8.1,4.9,5.31,5.31,0,0,0,12,6.5,5.46,5.46,0,0,0,6.5,12Z\"/>\n",
              "  </svg>\n",
              "    </button>\n",
              "    <script>\n",
              "      (() => {\n",
              "      const buttonEl =\n",
              "        document.querySelector('#id_4cca75a5-42fb-41e5-bf73-7737487af2f5 button.colab-df-generate');\n",
              "      buttonEl.style.display =\n",
              "        google.colab.kernel.accessAllowed ? 'block' : 'none';\n",
              "\n",
              "      buttonEl.onclick = () => {\n",
              "        google.colab.notebook.generateWithVariable('pivot_table');\n",
              "      }\n",
              "      })();\n",
              "    </script>\n",
              "  </div>\n",
              "\n",
              "    </div>\n",
              "  </div>\n"
            ],
            "application/vnd.google.colaboratory.intrinsic+json": {
              "type": "dataframe",
              "variable_name": "pivot_table",
              "summary": "{\n  \"name\": \"pivot_table\",\n  \"rows\": 12,\n  \"fields\": [\n    {\n      \"column\": \"Genre\",\n      \"properties\": {\n        \"dtype\": \"string\",\n        \"num_unique_values\": 12,\n        \"samples\": [\n          \"Sports\",\n          \"Simulation\",\n          \"Action\"\n        ],\n        \"semantic_type\": \"\",\n        \"description\": \"\"\n      }\n    },\n    {\n      \"column\": \"1990-1999\",\n      \"properties\": {\n        \"dtype\": \"number\",\n        \"std\": 77.10333433716788,\n        \"min\": 14.5,\n        \"max\": 254.01,\n        \"num_unique_values\": 12,\n        \"samples\": [\n          55.62,\n          26.12,\n          254.01\n        ],\n        \"semantic_type\": \"\",\n        \"description\": \"\"\n      }\n    },\n    {\n      \"column\": \"2000-2009\",\n      \"properties\": {\n        \"dtype\": \"number\",\n        \"std\": 249.41857672425186,\n        \"min\": 17.49,\n        \"max\": 855.8,\n        \"num_unique_values\": 12,\n        \"samples\": [\n          534.44,\n          132.12,\n          855.8\n        ],\n        \"semantic_type\": \"\",\n        \"description\": \"\"\n      }\n    },\n    {\n      \"column\": \"2010-2016\",\n      \"properties\": {\n        \"dtype\": \"number\",\n        \"std\": 259.58788532221723,\n        \"min\": 5.38,\n        \"max\": 684.7,\n        \"num_unique_values\": 12,\n        \"samples\": [\n          571.25,\n          59.11,\n          684.7\n        ],\n        \"semantic_type\": \"\",\n        \"description\": \"\"\n      }\n    }\n  ]\n}"
            }
          },
          "metadata": {},
          "execution_count": 10
        }
      ]
    },
    {
      "cell_type": "markdown",
      "source": [
        "## PHASE 4 - DATA WAREHOUSING AND VISUALIZATION"
      ],
      "metadata": {
        "id": "OFM_FyWT7Rss"
      }
    },
    {
      "cell_type": "markdown",
      "source": [
        "PROBLEM STATEMENT 11 - TOP AND UNDERPERFORMING GAMES"
      ],
      "metadata": {
        "id": "ZY4pNJvH7TSd"
      }
    },
    {
      "cell_type": "code",
      "source": [
        "#PS11\n",
        "import pandas as pd\n",
        "\n",
        "# Load data (replace 'path/to/data.csv' with your actual file path)\n",
        "data = pd.read_csv('/content/VGsales_datasets.csv')\n",
        "\n",
        "# Filter for games with global sales data\n",
        "data_filtered = data.dropna(subset=['Global_Sales'])\n",
        "\n",
        "# Top Performers\n",
        "top_performers = data_filtered.nlargest(10, 'Global_Sales')  # Top 10 by default\n",
        "\n",
        "# Underperformers\n",
        "underperformers = data_filtered.nsmallest(10, 'Global_Sales')  # Bottom 10 by default\n",
        "\n",
        "# Print results (optional)\n",
        "print(\"Top Performers:\")\n",
        "print(top_performers)\n",
        "print(\"\\nUnderperformers:\")\n",
        "print(underperformers)\n",
        "top_performers.to_csv('/content/top_performers.csv', index=False)\n",
        "underperformers.to_csv('/content/underperformers.csv', index=False)"
      ],
      "metadata": {
        "colab": {
          "base_uri": "https://localhost:8080/"
        },
        "id": "akPZT1AxL4wQ",
        "outputId": "bcb89384-9a9c-4af9-a1cd-a391ae92ac9e"
      },
      "execution_count": null,
      "outputs": [
        {
          "output_type": "stream",
          "name": "stdout",
          "text": [
            "Top Performers:\n",
            "       Rank                      Name Platform    Year         Genre  \\\n",
            "22626   1.0                Wii Sports      Wii  2006.0        Sports   \n",
            "30798   1.0                Wii Sports      Wii  2006.0        Sports   \n",
            "24808   2.0         Super Mario Bros.      NES  1985.0      Platform   \n",
            "33008   3.0            Mario Kart Wii      Wii  2008.0        Racing   \n",
            "22692   4.0         Wii Sports Resort      Wii  2009.0        Sports   \n",
            "34436   4.0         Wii Sports Resort      Wii  2009.0        Sports   \n",
            "25391   5.0  Pokemon Red/Pokemon Blue       GB  1996.0  Role-Playing   \n",
            "24874   6.0                    Tetris       GB  1989.0        Puzzle   \n",
            "30799   7.0     New Super Mario Bros.       DS  2006.0      Platform   \n",
            "30800   8.0                  Wii Play      Wii  2006.0          Misc   \n",
            "\n",
            "      Publisher  NA_Sales  EU_Sales  JP_Sales  Other_Sales  Global_Sales  \\\n",
            "22626  Nintendo     41.49     29.02      3.77         8.46         82.74   \n",
            "30798  Nintendo     41.49     29.02      3.77         8.46         82.74   \n",
            "24808  Nintendo     29.08      3.58      6.81         0.77         40.24   \n",
            "33008  Nintendo     15.85     12.88      3.79         3.31         35.82   \n",
            "22692  Nintendo     15.75     11.01      3.28         2.96         33.00   \n",
            "34436  Nintendo     15.75     11.01      3.28         2.96         33.00   \n",
            "25391  Nintendo     11.27      8.89     10.22         1.00         31.37   \n",
            "24874  Nintendo     23.20      2.26      4.22         0.58         30.26   \n",
            "30799  Nintendo     11.38      9.23      6.50         2.90         30.01   \n",
            "30800  Nintendo     14.03      9.20      2.93         2.85         29.02   \n",
            "\n",
            "      Decade  NA_Cumulative_Sales  \n",
            "22626    NaN                  NaN  \n",
            "30798    00s                  NaN  \n",
            "24808    80s                  NaN  \n",
            "33008    00s                  NaN  \n",
            "22692    NaN                  NaN  \n",
            "34436    00s                  NaN  \n",
            "25391    90s                  NaN  \n",
            "24874    80s                  NaN  \n",
            "30799    00s                  NaN  \n",
            "30800    00s                  NaN  \n",
            "\n",
            "Underperformers:\n",
            "          Rank                                               Name Platform  \\\n",
            "16451  16442.0                       Shin Sangoku Musou 4 Special     X360   \n",
            "16541  16014.0  Tom Clancy's  Ghost Recon Advanced Warfighter ...     X360   \n",
            "16542  16066.0                              Super Robot Taisen XO     X360   \n",
            "16543  16398.0                                   LMA Manager 2007     X360   \n",
            "16544  16416.0                           The Godfather (JP sales)     X360   \n",
            "16667  16393.0                    World Snooker Championship 2007     X360   \n",
            "16813  16056.0                                      Banjo-Kazooie     X360   \n",
            "16981  16095.0                               Superstars V8 Racing     X360   \n",
            "16982  16103.0                             Konami Classics Vol. 2     X360   \n",
            "16983  16266.0                 Mamoru-kun wa Norowarete Shimatta!     X360   \n",
            "\n",
            "         Year     Genre                     Publisher  NA_Sales  EU_Sales  \\\n",
            "16451  2005.0    Action                    Tecmo Koei      0.00      0.00   \n",
            "16541  2006.0   Shooter                       Ubisoft      0.00      0.00   \n",
            "16542  2006.0  Strategy                     Banpresto      0.00      0.00   \n",
            "16543  2006.0    Sports                   Codemasters      0.00      0.01   \n",
            "16544  2006.0    Action               Electronic Arts      0.00      0.00   \n",
            "16667  2007.0    Sports                          Sega      0.00      0.01   \n",
            "16813  2008.0  Platform        Microsoft Game Studios      0.00      0.01   \n",
            "16981  2009.0    Racing              Black Bean Games      0.00      0.01   \n",
            "16982  2009.0      Misc  Konami Digital Entertainment      0.01      0.00   \n",
            "16983  2009.0   Shooter                         G.Rev      0.00      0.00   \n",
            "\n",
            "       JP_Sales  Other_Sales  Global_Sales Decade  NA_Cumulative_Sales  \n",
            "16451      0.01          0.0          0.01    NaN                  NaN  \n",
            "16541      0.01          0.0          0.01    NaN                  NaN  \n",
            "16542      0.01          0.0          0.01    NaN                  NaN  \n",
            "16543      0.00          0.0          0.01    NaN                  NaN  \n",
            "16544      0.01          0.0          0.01    NaN                  NaN  \n",
            "16667      0.00          0.0          0.01    NaN                  NaN  \n",
            "16813      0.00          0.0          0.01    NaN                  NaN  \n",
            "16981      0.00          0.0          0.01    NaN                  NaN  \n",
            "16982      0.00          0.0          0.01    NaN                  NaN  \n",
            "16983      0.01          0.0          0.01    NaN                  NaN  \n"
          ]
        }
      ]
    },
    {
      "cell_type": "markdown",
      "source": [
        "PROBLEM STATEMENT 12 - RACING GENRE SALES ANALYSIS"
      ],
      "metadata": {
        "id": "31SofYJX7Zjc"
      }
    },
    {
      "cell_type": "code",
      "source": [
        "#PS12\n",
        "# Filter for racing genre and years 2000-2009\n",
        "racing_sales = df[(df['Genre'] == 'Racing') & (df['Year'].between(2000, 2009))]\n",
        "\n",
        "# Filter where EU sales are greater than JP, NA, and other sales\n",
        "eu_dominant_sales = racing_sales[(racing_sales['EU_Sales'] > racing_sales['JP_Sales']) &\n",
        "                                 (racing_sales['EU_Sales'] > racing_sales['NA_Sales']) &\n",
        "                                 (racing_sales['EU_Sales'] > racing_sales['Other_Sales'])]\n",
        "\n",
        "# Get top 5 records for EU sales\n",
        "top_5_eu_sales = eu_dominant_sales.nlargest(5, 'EU_Sales')[['Name', 'EU_Sales']].set_index('Name')\n",
        "\n",
        "# Save to a new CSV for Power BI\n",
        "top_5_eu_sales.to_csv('/content/racing_eusales.csv')\n",
        "print(top_5_eu_sales.head())"
      ],
      "metadata": {
        "colab": {
          "base_uri": "https://localhost:8080/"
        },
        "id": "tt_At0iOL8k5",
        "outputId": "f318ec62-d61d-43c3-af9b-89b74bbc074d"
      },
      "execution_count": null,
      "outputs": [
        {
          "output_type": "stream",
          "name": "stdout",
          "text": [
            "                              EU_Sales\n",
            "Name                                  \n",
            "Need for Speed Underground 2      3.02\n",
            "Need for Speed Underground 2      3.02\n",
            "Need for Speed Underground 2      3.02\n",
            "The Simpsons: Hit & Run           2.19\n",
            "The Simpsons: Hit & Run           2.19\n"
          ]
        }
      ]
    },
    {
      "cell_type": "markdown",
      "source": [
        "PROBLEM STATEMENT 13 - CUMULATIVE SALES VISUALIZATIONS"
      ],
      "metadata": {
        "id": "WVNPz1uf7f0e"
      }
    },
    {
      "cell_type": "code",
      "source": [
        "#PS13\n",
        "# Filter for XB platform\n",
        "xb_sales = df[df['Platform'] == 'XB']\n",
        "\n",
        "# Calculate the cumulative sum of NA and JP sales\n",
        "xb_sales['Cumulative_NA_Sales'] = xb_sales['NA_Sales'].cumsum()\n",
        "xb_sales['Cumulative_JP_Sales'] = xb_sales['JP_Sales'].cumsum()\n",
        "\n",
        "# Plot the cumulative sum of NA sales\n",
        "plt.figure(figsize=(10, 6))\n",
        "plt.plot(xb_sales['Year'], xb_sales['Cumulative_NA_Sales'], label='Cumulative NA Sales', marker='o')\n",
        "plt.plot(xb_sales['Year'], xb_sales['Cumulative_JP_Sales'], label='Cumulative JP Sales', marker='o')\n",
        "plt.title('Cumulative Sales for XB Platform')\n",
        "plt.xlabel('Year')\n",
        "plt.ylabel('Cumulative Sales (in millions)')\n",
        "plt.legend()\n",
        "plt.grid(True)\n",
        "plt.show()\n",
        "xb_sales.to_csv('xb_sales.csv')"
      ],
      "metadata": {
        "colab": {
          "base_uri": "https://localhost:8080/",
          "height": 772
        },
        "id": "kpZCCc_GOeIv",
        "outputId": "69ff0f73-a859-411b-d807-9892d33d2de9"
      },
      "execution_count": null,
      "outputs": [
        {
          "output_type": "stream",
          "name": "stderr",
          "text": [
            "<ipython-input-13-1f463a9bb8ff>:6: SettingWithCopyWarning: \n",
            "A value is trying to be set on a copy of a slice from a DataFrame.\n",
            "Try using .loc[row_indexer,col_indexer] = value instead\n",
            "\n",
            "See the caveats in the documentation: https://pandas.pydata.org/pandas-docs/stable/user_guide/indexing.html#returning-a-view-versus-a-copy\n",
            "  xb_sales['Cumulative_NA_Sales'] = xb_sales['NA_Sales'].cumsum()\n",
            "<ipython-input-13-1f463a9bb8ff>:7: SettingWithCopyWarning: \n",
            "A value is trying to be set on a copy of a slice from a DataFrame.\n",
            "Try using .loc[row_indexer,col_indexer] = value instead\n",
            "\n",
            "See the caveats in the documentation: https://pandas.pydata.org/pandas-docs/stable/user_guide/indexing.html#returning-a-view-versus-a-copy\n",
            "  xb_sales['Cumulative_JP_Sales'] = xb_sales['JP_Sales'].cumsum()\n"
          ]
        },
        {
          "output_type": "display_data",
          "data": {
            "text/plain": [
              "<Figure size 1000x600 with 1 Axes>"
            ],
            "image/png": "[encoded data removed]"
          },
          "metadata": {}
        }
      ]
    },
    {
      "cell_type": "markdown",
      "source": [
        "## FINAL PHASE - REPORTING AND VISUALIZATION"
      ],
      "metadata": {
        "id": "fgOWAmF17kUE"
      }
    },
    {
      "cell_type": "markdown",
      "source": [
        "PROBLEM STATEMENT 14 - SALES ACRROSS DECADE"
      ],
      "metadata": {
        "id": "HcwJ6lSV7oAV"
      }
    },
    {
      "cell_type": "code",
      "source": [
        "#PS14\n",
        "# Create a new column for decades\n",
        "df['Decade'] = pd.cut(df['Year'], bins=[1980, 1989, 1999, 2009, 2016], labels=['1980s', '1990s', '2000s', '2010s'])\n",
        "\n",
        "# Sum global sales across decades for each region\n",
        "region_sales_columns = ['NA_Sales', 'EU_Sales', 'JP_Sales', 'Other_Sales']\n",
        "\n",
        "# Ensure the columns exist in the DataFrame\n",
        "region_sales_columns = [col for col in region_sales_columns if col in df.columns]\n",
        "\n",
        "# Group by Decade and sum sales for each region\n",
        "sales_across_decades = df.groupby('Decade')[region_sales_columns].sum()\n",
        "\n",
        "# Plot the sales across decades\n",
        "sales_across_decades.plot(kind='bar', stacked=True, figsize=(12, 7))\n",
        "plt.title('Global Sales Across Decades')\n",
        "plt.xlabel('Decade')\n",
        "plt.ylabel('Global Sales (in millions)')\n",
        "plt.legend(title='Region')\n",
        "plt.show()\n"
      ],
      "metadata": {
        "colab": {
          "base_uri": "https://localhost:8080/",
          "height": 670
        },
        "id": "0ELMT9PqO5Le",
        "outputId": "70f9e6da-dcc3-486e-c28d-227f0bd95535"
      },
      "execution_count": null,
      "outputs": [
        {
          "output_type": "display_data",
          "data": {
            "text/plain": [
              "<Figure size 1200x700 with 1 Axes>"
            ],
            "image/png": "[encoded data removed]"
          },
          "metadata": {}
        }
      ]
    },
    {
      "cell_type": "markdown",
      "source": [
        "PROBLEM STATEMENT 15 - FEATURE IMPACT ON SALES"
      ],
      "metadata": {
        "id": "AC6oYwif7yXF"
      }
    },
    {
      "cell_type": "code",
      "source": [
        "# PS15\n",
        "atari_2600_games = data[(data['Platform'] == '2600') & (data['Publisher'] == 'Atari')]\n",
        "\n",
        "# Descriptive statistics for sales data\n",
        "atari_2600_stats = atari_2600_games.describe()\n",
        "\n",
        "# Sales by Genre\n",
        "sales_by_genre = atari_2600_games.groupby('Genre').sum(numeric_only=True)[['NA_Sales', 'EU_Sales', 'JP_Sales', 'Other_Sales', 'Global_Sales']].mean()\n",
        "\n",
        "# Sales by Publisher\n",
        "sales_by_publisher = atari_2600_games.groupby('Publisher').sum(numeric_only=True)[['NA_Sales', 'EU_Sales', 'JP_Sales', 'Other_Sales', 'Global_Sales']].mean()\n",
        "\n",
        "# Calculate correlation matrix\n",
        "correlation_matrix = atari_2600_games[['NA_Sales', 'EU_Sales', 'JP_Sales', 'Other_Sales', 'Global_Sales']].corr()\n",
        "# PS-15 RESULTS\n",
        "print(\"Descriptive Statistics for Atari 2600 Sales Data:\")\n",
        "atari_2600_stats\n",
        "print(\"\\nCorrelation Matrix:\")\n",
        "correlation_matrix"
      ],
      "metadata": {
        "colab": {
          "base_uri": "https://localhost:8080/",
          "height": 258
        },
        "id": "4r16eEQ98Lc-",
        "outputId": "caac19d5-f6d3-4eca-e1e9-0838576aa7c6"
      },
      "execution_count": null,
      "outputs": [
        {
          "output_type": "stream",
          "name": "stdout",
          "text": [
            "Descriptive Statistics for Atari 2600 Sales Data:\n",
            "\n",
            "Correlation Matrix:\n"
          ]
        },
        {
          "output_type": "execute_result",
          "data": {
            "text/plain": [
              "              NA_Sales  EU_Sales  JP_Sales  Other_Sales  Global_Sales\n",
              "NA_Sales      1.000000  0.998293       NaN     0.982857      0.999990\n",
              "EU_Sales      0.998293  1.000000       NaN     0.985431      0.998448\n",
              "JP_Sales           NaN       NaN       NaN          NaN           NaN\n",
              "Other_Sales   0.982857  0.985431       NaN     1.000000      0.983109\n",
              "Global_Sales  0.999990  0.998448       NaN     0.983109      1.000000"
            ],
            "text/html": [
              "\n",
              "  <div id=\"df-a4d1be81-c896-44e2-8c0e-0070c65bfbbb\" class=\"colab-df-container\">\n",
              "    <div>\n",
              "<style scoped>\n",
              "    .dataframe tbody tr th:only-of-type {\n",
              "        vertical-align: middle;\n",
              "    }\n",
              "\n",
              "    .dataframe tbody tr th {\n",
              "        vertical-align: top;\n",
              "    }\n",
              "\n",
              "    .dataframe thead th {\n",
              "        text-align: right;\n",
              "    }\n",
              "</style>\n",
              "<table border=\"1\" class=\"dataframe\">\n",
              "  <thead>\n",
              "    <tr style=\"text-align: right;\">\n",
              "      <th></th>\n",
              "      <th>NA_Sales</th>\n",
              "      <th>EU_Sales</th>\n",
              "      <th>JP_Sales</th>\n",
              "      <th>Other_Sales</th>\n",
              "      <th>Global_Sales</th>\n",
              "    </tr>\n",
              "  </thead>\n",
              "  <tbody>\n",
              "    <tr>\n",
              "      <th>NA_Sales</th>\n",
              "      <td>1.000000</td>\n",
              "      <td>0.998293</td>\n",
              "      <td>NaN</td>\n",
              "      <td>0.982857</td>\n",
              "      <td>0.999990</td>\n",
              "    </tr>\n",
              "    <tr>\n",
              "      <th>EU_Sales</th>\n",
              "      <td>0.998293</td>\n",
              "      <td>1.000000</td>\n",
              "      <td>NaN</td>\n",
              "      <td>0.985431</td>\n",
              "      <td>0.998448</td>\n",
              "    </tr>\n",
              "    <tr>\n",
              "      <th>JP_Sales</th>\n",
              "      <td>NaN</td>\n",
              "      <td>NaN</td>\n",
              "      <td>NaN</td>\n",
              "      <td>NaN</td>\n",
              "      <td>NaN</td>\n",
              "    </tr>\n",
              "    <tr>\n",
              "      <th>Other_Sales</th>\n",
              "      <td>0.982857</td>\n",
              "      <td>0.985431</td>\n",
              "      <td>NaN</td>\n",
              "      <td>1.000000</td>\n",
              "      <td>0.983109</td>\n",
              "    </tr>\n",
              "    <tr>\n",
              "      <th>Global_Sales</th>\n",
              "      <td>0.999990</td>\n",
              "      <td>0.998448</td>\n",
              "      <td>NaN</td>\n",
              "      <td>0.983109</td>\n",
              "      <td>1.000000</td>\n",
              "    </tr>\n",
              "  </tbody>\n",
              "</table>\n",
              "</div>\n",
              "    <div class=\"colab-df-buttons\">\n",
              "\n",
              "  <div class=\"colab-df-container\">\n",
              "    <button class=\"colab-df-convert\" onclick=\"convertToInteractive('df-a4d1be81-c896-44e2-8c0e-0070c65bfbbb')\"\n",
              "            title=\"Convert this dataframe to an interactive table.\"\n",
              "            style=\"display:none;\">\n",
              "\n",
              "  <svg xmlns=\"http://www.w3.org/2000/svg\" height=\"24px\" viewBox=\"0 -960 960 960\">\n",
              "    <path d=\"M120-120v-720h720v720H120Zm60-500h600v-160H180v160Zm220 220h160v-160H400v160Zm0 220h160v-160H400v160ZM180-400h160v-160H180v160Zm440 0h160v-160H620v160ZM180-180h160v-160H180v160Zm440 0h160v-160H620v160Z\"/>\n",
              "  </svg>\n",
              "    </button>\n",
              "\n",
              "  <style>\n",
              "    .colab-df-container {\n",
              "      display:flex;\n",
              "      gap: 12px;\n",
              "    }\n",
              "\n",
              "    .colab-df-convert {\n",
              "      background-color: #E8F0FE;\n",
              "      border: none;\n",
              "      border-radius: 50%;\n",
              "      cursor: pointer;\n",
              "      display: none;\n",
              "      fill: #1967D2;\n",
              "      height: 32px;\n",
              "      padding: 0 0 0 0;\n",
              "      width: 32px;\n",
              "    }\n",
              "\n",
              "    .colab-df-convert:hover {\n",
              "      background-color: #E2EBFA;\n",
              "      box-shadow: 0px 1px 2px rgba(60, 64, 67, 0.3), 0px 1px 3px 1px rgba(60, 64, 67, 0.15);\n",
              "      fill: #174EA6;\n",
              "    }\n",
              "\n",
              "    .colab-df-buttons div {\n",
              "      margin-bottom: 4px;\n",
              "    }\n",
              "\n",
              "    [theme=dark] .colab-df-convert {\n",
              "      background-color: #3B4455;\n",
              "      fill: #D2E3FC;\n",
              "    }\n",
              "\n",
              "    [theme=dark] .colab-df-convert:hover {\n",
              "      background-color: #434B5C;\n",
              "      box-shadow: 0px 1px 3px 1px rgba(0, 0, 0, 0.15);\n",
              "      filter: drop-shadow(0px 1px 2px rgba(0, 0, 0, 0.3));\n",
              "      fill: #FFFFFF;\n",
              "    }\n",
              "  </style>\n",
              "\n",
              "    <script>\n",
              "      const buttonEl =\n",
              "        document.querySelector('#df-a4d1be81-c896-44e2-8c0e-0070c65bfbbb button.colab-df-convert');\n",
              "      buttonEl.style.display =\n",
              "        google.colab.kernel.accessAllowed ? 'block' : 'none';\n",
              "\n",
              "      async function convertToInteractive(key) {\n",
              "        const element = document.querySelector('#df-a4d1be81-c896-44e2-8c0e-0070c65bfbbb');\n",
              "        const dataTable =\n",
              "          await google.colab.kernel.invokeFunction('convertToInteractive',\n",
              "                                                    [key], {});\n",
              "        if (!dataTable) return;\n",
              "\n",
              "        const docLinkHtml = 'Like what you see? Visit the ' +\n",
              "          '<a target=\"_blank\" href=https://colab.research.google.com/notebooks/data_table.ipynb>data table notebook</a>'\n",
              "          + ' to learn more about interactive tables.';\n",
              "        element.innerHTML = '';\n",
              "        dataTable['output_type'] = 'display_data';\n",
              "        await google.colab.output.renderOutput(dataTable, element);\n",
              "        const docLink = document.createElement('div');\n",
              "        docLink.innerHTML = docLinkHtml;\n",
              "        element.appendChild(docLink);\n",
              "      }\n",
              "    </script>\n",
              "  </div>\n",
              "\n",
              "\n",
              "<div id=\"df-305a1508-eefb-4226-a611-eae8ff361436\">\n",
              "  <button class=\"colab-df-quickchart\" onclick=\"quickchart('df-305a1508-eefb-4226-a611-eae8ff361436')\"\n",
              "            title=\"Suggest charts\"\n",
              "            style=\"display:none;\">\n",
              "\n",
              "<svg xmlns=\"http://www.w3.org/2000/svg\" height=\"24px\"viewBox=\"0 0 24 24\"\n",
              "     width=\"24px\">\n",
              "    <g>\n",
              "        <path d=\"M19 3H5c-1.1 0-2 .9-2 2v14c0 1.1.9 2 2 2h14c1.1 0 2-.9 2-2V5c0-1.1-.9-2-2-2zM9 17H7v-7h2v7zm4 0h-2V7h2v10zm4 0h-2v-4h2v4z\"/>\n",
              "    </g>\n",
              "</svg>\n",
              "  </button>\n",
              "\n",
              "<style>\n",
              "  .colab-df-quickchart {\n",
              "      --bg-color: #E8F0FE;\n",
              "      --fill-color: #1967D2;\n",
              "      --hover-bg-color: #E2EBFA;\n",
              "      --hover-fill-color: #174EA6;\n",
              "      --disabled-fill-color: #AAA;\n",
              "      --disabled-bg-color: #DDD;\n",
              "  }\n",
              "\n",
              "  [theme=dark] .colab-df-quickchart {\n",
              "      --bg-color: #3B4455;\n",
              "      --fill-color: #D2E3FC;\n",
              "      --hover-bg-color: #434B5C;\n",
              "      --hover-fill-color: #FFFFFF;\n",
              "      --disabled-bg-color: #3B4455;\n",
              "      --disabled-fill-color: #666;\n",
              "  }\n",
              "\n",
              "  .colab-df-quickchart {\n",
              "    background-color: var(--bg-color);\n",
              "    border: none;\n",
              "    border-radius: 50%;\n",
              "    cursor: pointer;\n",
              "    display: none;\n",
              "    fill: var(--fill-color);\n",
              "    height: 32px;\n",
              "    padding: 0;\n",
              "    width: 32px;\n",
              "  }\n",
              "\n",
              "  .colab-df-quickchart:hover {\n",
              "    background-color: var(--hover-bg-color);\n",
              "    box-shadow: 0 1px 2px rgba(60, 64, 67, 0.3), 0 1px 3px 1px rgba(60, 64, 67, 0.15);\n",
              "    fill: var(--button-hover-fill-color);\n",
              "  }\n",
              "\n",
              "  .colab-df-quickchart-complete:disabled,\n",
              "  .colab-df-quickchart-complete:disabled:hover {\n",
              "    background-color: var(--disabled-bg-color);\n",
              "    fill: var(--disabled-fill-color);\n",
              "    box-shadow: none;\n",
              "  }\n",
              "\n",
              "  .colab-df-spinner {\n",
              "    border: 2px solid var(--fill-color);\n",
              "    border-color: transparent;\n",
              "    border-bottom-color: var(--fill-color);\n",
              "    animation:\n",
              "      spin 1s steps(1) infinite;\n",
              "  }\n",
              "\n",
              "  @keyframes spin {\n",
              "    0% {\n",
              "      border-color: transparent;\n",
              "      border-bottom-color: var(--fill-color);\n",
              "      border-left-color: var(--fill-color);\n",
              "    }\n",
              "    20% {\n",
              "      border-color: transparent;\n",
              "      border-left-color: var(--fill-color);\n",
              "      border-top-color: var(--fill-color);\n",
              "    }\n",
              "    30% {\n",
              "      border-color: transparent;\n",
              "      border-left-color: var(--fill-color);\n",
              "      border-top-color: var(--fill-color);\n",
              "      border-right-color: var(--fill-color);\n",
              "    }\n",
              "    40% {\n",
              "      border-color: transparent;\n",
              "      border-right-color: var(--fill-color);\n",
              "      border-top-color: var(--fill-color);\n",
              "    }\n",
              "    60% {\n",
              "      border-color: transparent;\n",
              "      border-right-color: var(--fill-color);\n",
              "    }\n",
              "    80% {\n",
              "      border-color: transparent;\n",
              "      border-right-color: var(--fill-color);\n",
              "      border-bottom-color: var(--fill-color);\n",
              "    }\n",
              "    90% {\n",
              "      border-color: transparent;\n",
              "      border-bottom-color: var(--fill-color);\n",
              "    }\n",
              "  }\n",
              "</style>\n",
              "\n",
              "  <script>\n",
              "    async function quickchart(key) {\n",
              "      const quickchartButtonEl =\n",
              "        document.querySelector('#' + key + ' button');\n",
              "      quickchartButtonEl.disabled = true;  // To prevent multiple clicks.\n",
              "      quickchartButtonEl.classList.add('colab-df-spinner');\n",
              "      try {\n",
              "        const charts = await google.colab.kernel.invokeFunction(\n",
              "            'suggestCharts', [key], {});\n",
              "      } catch (error) {\n",
              "        console.error('Error during call to suggestCharts:', error);\n",
              "      }\n",
              "      quickchartButtonEl.classList.remove('colab-df-spinner');\n",
              "      quickchartButtonEl.classList.add('colab-df-quickchart-complete');\n",
              "    }\n",
              "    (() => {\n",
              "      let quickchartButtonEl =\n",
              "        document.querySelector('#df-305a1508-eefb-4226-a611-eae8ff361436 button');\n",
              "      quickchartButtonEl.style.display =\n",
              "        google.colab.kernel.accessAllowed ? 'block' : 'none';\n",
              "    })();\n",
              "  </script>\n",
              "</div>\n",
              "\n",
              "  <div id=\"id_fc7dea4c-753b-4778-8b4a-616953521a2f\">\n",
              "    <style>\n",
              "      .colab-df-generate {\n",
              "        background-color: #E8F0FE;\n",
              "        border: none;\n",
              "        border-radius: 50%;\n",
              "        cursor: pointer;\n",
              "        display: none;\n",
              "        fill: #1967D2;\n",
              "        height: 32px;\n",
              "        padding: 0 0 0 0;\n",
              "        width: 32px;\n",
              "      }\n",
              "\n",
              "      .colab-df-generate:hover {\n",
              "        background-color: #E2EBFA;\n",
              "        box-shadow: 0px 1px 2px rgba(60, 64, 67, 0.3), 0px 1px 3px 1px rgba(60, 64, 67, 0.15);\n",
              "        fill: #174EA6;\n",
              "      }\n",
              "\n",
              "      [theme=dark] .colab-df-generate {\n",
              "        background-color: #3B4455;\n",
              "        fill: #D2E3FC;\n",
              "      }\n",
              "\n",
              "      [theme=dark] .colab-df-generate:hover {\n",
              "        background-color: #434B5C;\n",
              "        box-shadow: 0px 1px 3px 1px rgba(0, 0, 0, 0.15);\n",
              "        filter: drop-shadow(0px 1px 2px rgba(0, 0, 0, 0.3));\n",
              "        fill: #FFFFFF;\n",
              "      }\n",
              "    </style>\n",
              "    <button class=\"colab-df-generate\" onclick=\"generateWithVariable('correlation_matrix')\"\n",
              "            title=\"Generate code using this dataframe.\"\n",
              "            style=\"display:none;\">\n",
              "\n",
              "  <svg xmlns=\"http://www.w3.org/2000/svg\" height=\"24px\"viewBox=\"0 0 24 24\"\n",
              "       width=\"24px\">\n",
              "    <path d=\"M7,19H8.4L18.45,9,17,7.55,7,17.6ZM5,21V16.75L18.45,3.32a2,2,0,0,1,2.83,0l1.4,1.43a1.91,1.91,0,0,1,.58,1.4,1.91,1.91,0,0,1-.58,1.4L9.25,21ZM18.45,9,17,7.55Zm-12,3A5.31,5.31,0,0,0,4.9,8.1,5.31,5.31,0,0,0,1,6.5,5.31,5.31,0,0,0,4.9,4.9,5.31,5.31,0,0,0,6.5,1,5.31,5.31,0,0,0,8.1,4.9,5.31,5.31,0,0,0,12,6.5,5.46,5.46,0,0,0,6.5,12Z\"/>\n",
              "  </svg>\n",
              "    </button>\n",
              "    <script>\n",
              "      (() => {\n",
              "      const buttonEl =\n",
              "        document.querySelector('#id_fc7dea4c-753b-4778-8b4a-616953521a2f button.colab-df-generate');\n",
              "      buttonEl.style.display =\n",
              "        google.colab.kernel.accessAllowed ? 'block' : 'none';\n",
              "\n",
              "      buttonEl.onclick = () => {\n",
              "        google.colab.notebook.generateWithVariable('correlation_matrix');\n",
              "      }\n",
              "      })();\n",
              "    </script>\n",
              "  </div>\n",
              "\n",
              "    </div>\n",
              "  </div>\n"
            ],
            "application/vnd.google.colaboratory.intrinsic+json": {
              "type": "dataframe",
              "variable_name": "correlation_matrix",
              "summary": "{\n  \"name\": \"correlation_matrix\",\n  \"rows\": 5,\n  \"fields\": [\n    {\n      \"column\": \"NA_Sales\",\n      \"properties\": {\n        \"dtype\": \"number\",\n        \"std\": 0.008324124784958201,\n        \"min\": 0.9828571080866616,\n        \"max\": 1.0,\n        \"num_unique_values\": 4,\n        \"samples\": [\n          0.9982931938842934,\n          0.9999903381976217,\n          1.0\n        ],\n        \"semantic_type\": \"\",\n        \"description\": \"\"\n      }\n    },\n    {\n      \"column\": \"EU_Sales\",\n      \"properties\": {\n        \"dtype\": \"number\",\n        \"std\": 0.006785207543744059,\n        \"min\": 0.9854312338720675,\n        \"max\": 1.0,\n        \"num_unique_values\": 4,\n        \"samples\": [\n          1.0,\n          0.9984483217977179,\n          0.9982931938842934\n        ],\n        \"semantic_type\": \"\",\n        \"description\": \"\"\n      }\n    },\n    {\n      \"column\": \"JP_Sales\",\n      \"properties\": {\n        \"dtype\": \"number\",\n        \"std\": null,\n        \"min\": null,\n        \"max\": null,\n        \"num_unique_values\": 0,\n        \"samples\": [],\n        \"semantic_type\": \"\",\n        \"description\": \"\"\n      }\n    },\n    {\n      \"column\": \"Other_Sales\",\n      \"properties\": {\n        \"dtype\": \"number\",\n        \"std\": 0.008182972351416268,\n        \"min\": 0.9828571080866616,\n        \"max\": 1.0,\n        \"num_unique_values\": 4,\n        \"samples\": [],\n        \"semantic_type\": \"\",\n        \"description\": \"\"\n      }\n    },\n    {\n      \"column\": \"Global_Sales\",\n      \"properties\": {\n        \"dtype\": \"number\",\n        \"std\": 0.008217910647564159,\n        \"min\": 0.9831085642823031,\n        \"max\": 1.0,\n        \"num_unique_values\": 4,\n        \"samples\": [],\n        \"semantic_type\": \"\",\n        \"description\": \"\"\n      }\n    }\n  ]\n}"
            }
          },
          "metadata": {},
          "execution_count": 20
        }
      ]
    }
  ]
}